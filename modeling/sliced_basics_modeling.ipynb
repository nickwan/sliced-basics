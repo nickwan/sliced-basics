{
  "nbformat": 4,
  "nbformat_minor": 0,
  "metadata": {
    "colab": {
      "name": "sliced-basics-modeling.ipynb",
      "provenance": [],
      "mount_file_id": "15NkSi6m6FC7jCvLpMan34cZNwYZ7_qwS",
      "authorship_tag": "ABX9TyONlEPuI8W+Y9JdIIK1qljS",
      "include_colab_link": true
    },
    "kernelspec": {
      "name": "python3",
      "display_name": "Python 3"
    },
    "language_info": {
      "name": "python"
    }
  },
  "cells": [
    {
      "cell_type": "markdown",
      "metadata": {
        "id": "view-in-github",
        "colab_type": "text"
      },
      "source": [
        "<a href=\"https://colab.research.google.com/github/nickwan/sliced-basics/blob/main/modeling/sliced_basics_modeling.ipynb\" target=\"_parent\"><img src=\"https://colab.research.google.com/assets/colab-badge.svg\" alt=\"Open In Colab\"/></a>"
      ]
    },
    {
      "cell_type": "markdown",
      "metadata": {
        "id": "UlwfwNfjZxjs"
      },
      "source": [
        "# SLICED BASICS: Modeling  \n",
        "We show off different, quick ways you can approach modeling in order to get predictive values on a holdout dataset. SLICED contestants could use this information to quickly turnaround models and predictions so they aren't left hanging at the end of the show. This is only a short, small intro to modeling -- didn't do anything heavy here -- so if you are interested in bigger or more complex modeling, come join us on twitch! \n",
        "\n",
        "8:30pm ET, Monday - Thursday\n",
        "https://twitch.tv/nickwan_datasci  \n",
        "\n",
        "Check out the notebook from this video here:  \n",
        "https://github.com/nickwan/sliced-basics/blob/main/modeling/sliced_basics_modeling.ipynb  \n",
        "\n",
        "Grab the data from this video over here:  \n",
        "https://drive.google.com/drive/folders/1_iDnj3e2jKODqBU-hHkH6YY4XPrAdjGH  \n",
        "\n",
        "SLICED is a competitive data science show where 4 data scientists have a blind dataset and have 2 hours to create a predictive model, data visualization, and new features through feature engineering, while entertaining chat -- all for points! Come check it out, June 1st through August 17th; every Tuesday on:  \n",
        "\n",
        "https://twitch.tv/nickwan_datasci  \n",
        "https://twitch.tv/nickwan_datasci  \n",
        "https://twitch.tv/nickwan_datasci  \n",
        "https://twitch.tv/nickwan_datasci  \n",
        "https://twitch.tv/nickwan_datasci  \n"
      ]
    },
    {
      "cell_type": "code",
      "metadata": {
        "id": "t7lcCQP4HOyU"
      },
      "source": [
        "import pandas as pd\n",
        "import numpy as np \n",
        "import seaborn as sns \n",
        "import matplotlib.pyplot as plt \n",
        "import os\n",
        "\n",
        "from sklearn.linear_model import LogisticRegression\n",
        "from sklearn.ensemble import RandomForestClassifier\n",
        "from sklearn.metrics import log_loss, accuracy_score"
      ],
      "execution_count": 1,
      "outputs": []
    },
    {
      "cell_type": "code",
      "metadata": {
        "colab": {
          "base_uri": "https://localhost:8080/"
        },
        "id": "UTkoWQ_uHUqA",
        "outputId": "7172e42d-6686-48fd-b0de-126d8cbc367e"
      },
      "source": [
        "project_dir = \"drive/My Drive/public-sliced/s00e01\"\n",
        "df = pd.read_csv(f\"{project_dir}/Copy of sliced-s00e01-data.csv\")\n",
        "df.shape"
      ],
      "execution_count": 2,
      "outputs": [
        {
          "output_type": "execute_result",
          "data": {
            "text/plain": [
              "(5934, 120)"
            ]
          },
          "metadata": {
            "tags": []
          },
          "execution_count": 2
        }
      ]
    },
    {
      "cell_type": "code",
      "metadata": {
        "colab": {
          "base_uri": "https://localhost:8080/"
        },
        "id": "DKTBk-QjRwXP",
        "outputId": "5383d8df-54b5-4c60-f5f3-7263dc438a29"
      },
      "source": [
        "df_holdout = pd.read_csv(f\"{project_dir}/Copy of sliced-s00e01-holdout.csv\")\n",
        "for col in feats:\n",
        "  df_holdout[col] = df_holdout[col].fillna(df_holdout[col].mean())\n",
        "df_holdout.shape"
      ],
      "execution_count": 16,
      "outputs": [
        {
          "output_type": "execute_result",
          "data": {
            "text/plain": [
              "(882, 117)"
            ]
          },
          "metadata": {
            "tags": []
          },
          "execution_count": 16
        }
      ]
    },
    {
      "cell_type": "code",
      "metadata": {
        "id": "fpt1QUbsQ9kJ"
      },
      "source": [
        "feats = ['attr', 'sinc', 'intel', 'fun', 'amb', 'shar']\n",
        "feats = [f\"{x}_o\" for x in feats] + feats\n",
        "target = 'match'"
      ],
      "execution_count": 8,
      "outputs": []
    },
    {
      "cell_type": "code",
      "metadata": {
        "colab": {
          "base_uri": "https://localhost:8080/"
        },
        "id": "sWMHhfLVRk6h",
        "outputId": "6aec0e53-776d-4a6f-ff74-f3b750875f7d"
      },
      "source": [
        "model_data = df.loc[:, ['wave']+feats+[target]].dropna()\n",
        "log_model = LogisticRegression()\n",
        "log_model.fit(model_data.loc[:, feats], model_data[target])\n"
      ],
      "execution_count": 43,
      "outputs": [
        {
          "output_type": "execute_result",
          "data": {
            "text/plain": [
              "LogisticRegression(C=1.0, class_weight=None, dual=False, fit_intercept=True,\n",
              "                   intercept_scaling=1, l1_ratio=None, max_iter=100,\n",
              "                   multi_class='auto', n_jobs=None, penalty='l2',\n",
              "                   random_state=None, solver='lbfgs', tol=0.0001, verbose=0,\n",
              "                   warm_start=False)"
            ]
          },
          "metadata": {
            "tags": []
          },
          "execution_count": 43
        }
      ]
    },
    {
      "cell_type": "code",
      "metadata": {
        "id": "cxOw7e3bSZCn"
      },
      "source": [
        "preds = pd.DataFrame(log_model.predict_proba(df_holdout.loc[:, feats]), index=df_holdout.index)\n",
        "df_holdout['preds'] = preds[1]\n",
        "df_holdout['preds_int'] = df_holdout['preds'].round(0).astype(int)\n",
        "df_holdout.shape"
      ],
      "execution_count": 23,
      "outputs": []
    },
    {
      "cell_type": "code",
      "metadata": {
        "colab": {
          "base_uri": "https://localhost:8080/"
        },
        "id": "qyAtSBk-TrDs",
        "outputId": "e2c9edc3-b829-44e9-dffb-a8ad22682e44"
      },
      "source": [
        "df_targets = pd.read_csv('sliced-s00e01-holdout_full.csv')\n",
        "df_targets.shape"
      ],
      "execution_count": 30,
      "outputs": [
        {
          "output_type": "execute_result",
          "data": {
            "text/plain": [
              "(882, 120)"
            ]
          },
          "metadata": {
            "tags": []
          },
          "execution_count": 30
        }
      ]
    },
    {
      "cell_type": "code",
      "metadata": {
        "colab": {
          "base_uri": "https://localhost:8080/"
        },
        "id": "Blf0tb2_T2x3",
        "outputId": "5140d934-cf39-4d0b-eed1-1fc00a2ecbb8"
      },
      "source": [
        "df_targets = (df_targets\n",
        "              .merge(df_holdout\n",
        "                     .loc[:, ['preds', 'preds_int']], \n",
        "                     left_index=True, \n",
        "                     right_index=True))\n",
        "df_targets.shape"
      ],
      "execution_count": 32,
      "outputs": [
        {
          "output_type": "execute_result",
          "data": {
            "text/plain": [
              "(882, 122)"
            ]
          },
          "metadata": {
            "tags": []
          },
          "execution_count": 32
        }
      ]
    },
    {
      "cell_type": "code",
      "metadata": {
        "colab": {
          "base_uri": "https://localhost:8080/"
        },
        "id": "AdYhek_1UDx3",
        "outputId": "082f09c2-3770-45da-92a2-fd720543b400"
      },
      "source": [
        "loss = log_loss(df_targets[target], df_targets['preds'])\n",
        "acc = accuracy_score(df_targets[target], df_targets['preds_int'])\n",
        "loss, acc"
      ],
      "execution_count": 35,
      "outputs": [
        {
          "output_type": "execute_result",
          "data": {
            "text/plain": [
              "(0.3069897840532516, 0.873015873015873)"
            ]
          },
          "metadata": {
            "tags": []
          },
          "execution_count": 35
        }
      ]
    },
    {
      "cell_type": "markdown",
      "metadata": {
        "id": "EfUYywz9UoHB"
      },
      "source": [
        "# cross validation with logistic regression "
      ]
    },
    {
      "cell_type": "code",
      "metadata": {
        "id": "QFfYTsfDUvRQ"
      },
      "source": [
        "from sklearn.model_selection import KFold, GroupKFold"
      ],
      "execution_count": 36,
      "outputs": []
    },
    {
      "cell_type": "code",
      "metadata": {
        "id": "b3MAukkUVNEa"
      },
      "source": [
        "kf = KFold(10, shuffle=True)\n",
        "model_data = df.loc[:, ['wave']+feats+[target]].dropna()\n",
        "\n",
        "df_preds = pd.DataFrame()\n",
        "for train_idx, test_idx in kf.split(model_data):\n",
        "  train_data = model_data.iloc[train_idx]\n",
        "  test_data = model_data.iloc[test_idx]\n",
        "\n",
        "  log_model = LogisticRegression()\n",
        "  log_model.fit(train_data.loc[:, feats], train_data[target])\n",
        "  test_data['preds'] = pd.DataFrame(log_model.predict_proba(test_data.loc[:, feats]), index=test_data.index)[1]\n",
        "  df_preds = df_preds.append(test_data)\n",
        "df_preds.shape  "
      ],
      "execution_count": null,
      "outputs": []
    },
    {
      "cell_type": "code",
      "metadata": {
        "colab": {
          "base_uri": "https://localhost:8080/"
        },
        "id": "8PEJKOu1WW1h",
        "outputId": "ed7241ba-e0d5-4342-c8f2-8f119d271fdf"
      },
      "source": [
        "loss = log_loss(df_preds[target], df_preds['preds'])\n",
        "acc = accuracy_score(df_preds[target], df_preds['preds'].round().astype(int))\n",
        "loss, acc"
      ],
      "execution_count": 48,
      "outputs": [
        {
          "output_type": "execute_result",
          "data": {
            "text/plain": [
              "(0.3651997773259231, 0.8464052287581699)"
            ]
          },
          "metadata": {
            "tags": []
          },
          "execution_count": 48
        }
      ]
    },
    {
      "cell_type": "code",
      "metadata": {
        "id": "mcMazNeVW76m"
      },
      "source": [
        "kf = GroupKFold(4)\n",
        "model_data = df.loc[:, ['wave']+feats+[target]].dropna()\n",
        "\n",
        "df_preds = pd.DataFrame()\n",
        "for train_idx, test_idx in kf.split(model_data, groups=model_data['wave']):\n",
        "  train_data = model_data.iloc[train_idx]\n",
        "  test_data = model_data.iloc[test_idx]\n",
        "\n",
        "  log_model = LogisticRegression()\n",
        "  log_model.fit(train_data.loc[:, feats], train_data[target])\n",
        "  test_data['preds'] = pd.DataFrame(log_model.predict_proba(test_data.loc[:, feats]), index=test_data.index)[1]\n",
        "  df_preds = df_preds.append(test_data)\n",
        "df_preds.shape  "
      ],
      "execution_count": null,
      "outputs": []
    },
    {
      "cell_type": "code",
      "metadata": {
        "colab": {
          "base_uri": "https://localhost:8080/"
        },
        "id": "1ykMIARfXl91",
        "outputId": "76a02b48-5331-4463-963d-79986c33c1c1"
      },
      "source": [
        "loss = log_loss(df_preds[target], df_preds['preds'])\n",
        "acc = accuracy_score(df_preds[target], df_preds['preds'].round().astype(int))\n",
        "loss, acc"
      ],
      "execution_count": 53,
      "outputs": [
        {
          "output_type": "execute_result",
          "data": {
            "text/plain": [
              "(0.36557485391204025, 0.8445378151260504)"
            ]
          },
          "metadata": {
            "tags": []
          },
          "execution_count": 53
        }
      ]
    },
    {
      "cell_type": "markdown",
      "metadata": {
        "id": "mQ6pM1h1X4kK"
      },
      "source": [
        "# cross val with random forest "
      ]
    },
    {
      "cell_type": "code",
      "metadata": {
        "id": "vm5fDFEqX9RU"
      },
      "source": [
        "kf = KFold(10, shuffle=True)\n",
        "model_data = df.loc[:, ['wave']+feats+[target]].dropna()\n",
        "\n",
        "df_preds = pd.DataFrame()\n",
        "for train_idx, test_idx in kf.split(model_data):\n",
        "  train_data = model_data.iloc[train_idx]\n",
        "  test_data = model_data.iloc[test_idx]\n",
        "\n",
        "  rf_model = RandomForestClassifier()\n",
        "  rf_model.fit(train_data.loc[:, feats], train_data[target])\n",
        "  test_data['preds'] = pd.DataFrame(rf_model.predict_proba(test_data.loc[:, feats]), index=test_data.index)[1]\n",
        "  df_preds = df_preds.append(test_data)\n",
        "df_preds.shape  "
      ],
      "execution_count": null,
      "outputs": []
    },
    {
      "cell_type": "code",
      "metadata": {
        "colab": {
          "base_uri": "https://localhost:8080/"
        },
        "id": "yMlANPYyYG1m",
        "outputId": "38b9bd78-44e1-49ba-f87b-051fb52e7104"
      },
      "source": [
        "loss = log_loss(df_preds[target], df_preds['preds'])\n",
        "acc = accuracy_score(df_preds[target], df_preds['preds'].round().astype(int))\n",
        "loss, acc"
      ],
      "execution_count": 56,
      "outputs": [
        {
          "output_type": "execute_result",
          "data": {
            "text/plain": [
              "(0.38929339399420626, 0.8478057889822596)"
            ]
          },
          "metadata": {
            "tags": []
          },
          "execution_count": 56
        }
      ]
    },
    {
      "cell_type": "code",
      "metadata": {
        "id": "NGR8eR1cYahJ"
      },
      "source": [
        "kf = GroupKFold(4)\n",
        "model_data = df.loc[:, ['wave']+feats+[target]].dropna()\n",
        "\n",
        "df_preds = pd.DataFrame()\n",
        "for train_idx, test_idx in kf.split(model_data, groups=model_data['wave']):\n",
        "  train_data = model_data.iloc[train_idx]\n",
        "  test_data = model_data.iloc[test_idx]\n",
        "\n",
        "  rf_model = RandomForestClassifier()\n",
        "  rf_model.fit(train_data.loc[:, feats], train_data[target])\n",
        "  test_data['preds'] = pd.DataFrame(rf_model.predict_proba(test_data.loc[:, feats]), index=test_data.index)[1]\n",
        "  df_preds = df_preds.append(test_data)\n",
        "df_preds.shape  "
      ],
      "execution_count": null,
      "outputs": []
    },
    {
      "cell_type": "code",
      "metadata": {
        "colab": {
          "base_uri": "https://localhost:8080/"
        },
        "id": "Lce4qwy5YgMm",
        "outputId": "9376e9c6-8675-4597-d2f7-40bc77ec5f5f"
      },
      "source": [
        "loss = log_loss(df_preds[target], df_preds['preds'])\n",
        "acc = accuracy_score(df_preds[target], df_preds['preds'].round().astype(int))\n",
        "loss, acc"
      ],
      "execution_count": 58,
      "outputs": [
        {
          "output_type": "execute_result",
          "data": {
            "text/plain": [
              "(0.4085300740805961, 0.8426704014939309)"
            ]
          },
          "metadata": {
            "tags": []
          },
          "execution_count": 58
        }
      ]
    },
    {
      "cell_type": "markdown",
      "metadata": {
        "id": "W1OViVilYs_d"
      },
      "source": [
        "# predict on the holdout "
      ]
    },
    {
      "cell_type": "code",
      "metadata": {
        "colab": {
          "base_uri": "https://localhost:8080/"
        },
        "id": "Pw4fCeW7YyHP",
        "outputId": "264ce0f6-d756-40e2-c8b3-d133e06a851f"
      },
      "source": [
        "model_data = df.loc[:, ['wave']+feats+[target]].dropna()\n",
        "log_model = LogisticRegression()\n",
        "log_model.fit(model_data.loc[:, feats], model_data[target])\n"
      ],
      "execution_count": 59,
      "outputs": [
        {
          "output_type": "execute_result",
          "data": {
            "text/plain": [
              "LogisticRegression(C=1.0, class_weight=None, dual=False, fit_intercept=True,\n",
              "                   intercept_scaling=1, l1_ratio=None, max_iter=100,\n",
              "                   multi_class='auto', n_jobs=None, penalty='l2',\n",
              "                   random_state=None, solver='lbfgs', tol=0.0001, verbose=0,\n",
              "                   warm_start=False)"
            ]
          },
          "metadata": {
            "tags": []
          },
          "execution_count": 59
        }
      ]
    },
    {
      "cell_type": "code",
      "metadata": {
        "colab": {
          "base_uri": "https://localhost:8080/"
        },
        "id": "pPGzVd0lY7Jf",
        "outputId": "2090a7fc-8884-4577-c0f9-51b0744c0ddc"
      },
      "source": [
        "df_holdout = pd.read_csv(f\"{project_dir}/Copy of sliced-s00e01-holdout.csv\")\n",
        "for col in feats:\n",
        "  df_holdout[col] = df_holdout[col].fillna(df_holdout[col].mean())\n",
        "df_holdout.shape"
      ],
      "execution_count": 60,
      "outputs": [
        {
          "output_type": "execute_result",
          "data": {
            "text/plain": [
              "(882, 117)"
            ]
          },
          "metadata": {
            "tags": []
          },
          "execution_count": 60
        }
      ]
    },
    {
      "cell_type": "code",
      "metadata": {
        "colab": {
          "base_uri": "https://localhost:8080/"
        },
        "id": "iC-0Dr8CZAZx",
        "outputId": "e73ede73-e40d-462f-9faa-dc01132bb678"
      },
      "source": [
        "preds = pd.DataFrame(log_model.predict_proba(df_holdout.loc[:, feats]), index=df_holdout.index)\n",
        "df_holdout['preds'] = preds[1]\n",
        "df_holdout['preds_int'] = df_holdout['preds'].round(0).astype(int)\n",
        "df_holdout.shape"
      ],
      "execution_count": 61,
      "outputs": [
        {
          "output_type": "execute_result",
          "data": {
            "text/plain": [
              "(882, 119)"
            ]
          },
          "metadata": {
            "tags": []
          },
          "execution_count": 61
        }
      ]
    }
  ]
}